{
 "cells": [
  {
   "cell_type": "code",
   "execution_count": 5,
   "metadata": {},
   "outputs": [
    {
     "data": {
      "text/plain": [
       "'221 Goodbye.'"
      ]
     },
     "execution_count": 5,
     "metadata": {},
     "output_type": "execute_result"
    }
   ],
   "source": [
    "import ftplib\n",
    "f = ftplib.FTP(\"10.*.*.*\")  # 实例化FTP对象\n",
    "f.login(\"***\", \"***\")  # 登录\n",
    "def ftp_download(remotename,localname):\n",
    "    file_remote = \"tiku/images/\"+remotename\n",
    "    file_local = \"/data/fjs/data/math/\"+localname\n",
    "    bufsize = 1024  # 设置缓冲器大小\n",
    "    fp = open(file_local, 'wb')\n",
    "    f.retrbinary('RETR %s' % file_remote, fp.write, bufsize)\n",
    "    fp.close()\n",
    "remotename=\"upimages/images/part/8730D.png\"\n",
    "localname=\"8730D.png\"\n",
    "ftp_download(remotename,localname)\n",
    "f.quit()"
   ]
  },
  {
   "cell_type": "code",
   "execution_count": 58,
   "metadata": {},
   "outputs": [
    {
     "name": "stdout",
     "output_type": "stream",
     "text": [
      "page 0 parsing completed.\n",
      "page 1 parsing completed.\n",
      "page 2 parsing completed.\n",
      "page 3 parsing completed.\n",
      "page 4 parsing completed.\n",
      "page 5 parsing completed.\n",
      "page 6 parsing completed.\n",
      "page 7 parsing completed.\n",
      "page 8 parsing completed.\n",
      "page 9 parsing completed.\n",
      "page 10 parsing completed.\n",
      "page 11 parsing completed.\n",
      "page 12 parsing completed.\n",
      "page 13 parsing completed.\n",
      "page 14 parsing completed.\n",
      "page 15 parsing completed.\n",
      "page 16 parsing completed.\n",
      "page 17 parsing completed.\n",
      "900000\n",
      "Json file saving completed.\n"
     ]
    }
   ],
   "source": [
    "import pymysql\n",
    "from html.parser import HTMLParser\n",
    "import re\n",
    "import string\n",
    "import json\n",
    "\n",
    "#html解析\n",
    "class mathHTMLParser(HTMLParser): \n",
    "    def __init__(self): \n",
    "        HTMLParser.__init__(self) \n",
    "        self.texts = [] #非结构化-文本\n",
    "        self.images = [] #非结构化-图片\n",
    "        #self.htmls = [] #半结构化-html格式\n",
    "        #self.latexs = [] #半结构化-latex格式\n",
    "        \n",
    "    def handle_starttag(self, tag, attrs):\n",
    "        if tag=='img':\n",
    "            for a in attrs:\n",
    "                if a[0] == 'src':\n",
    "                    self.images.append(a[1])\n",
    "        if tag=='div':\n",
    "            for a in attrs:\n",
    "                if a[0]=='style':\n",
    "                    if a[1].find('url')!=-1:\n",
    "                        self.images.append(a[1].split(\"'\")[1])\n",
    "\n",
    "    def handle_endtag(self, tag):\n",
    "        pass\n",
    "\n",
    "    def handle_data(self, data):\n",
    "        data = re.sub('[%s]' % re.escape(string.punctuation), '', data)\n",
    "        if data.count('\\n') == 0 and data!='':\n",
    "            self.texts.append(data)\n",
    "            \n",
    "#mysql -h10.21.3.23 -ufangjiansheng -pfjs2019@cvte  CNK12\n",
    "conn = pymysql.connect(host='10.*.*.*', user='***', passwd=\"***\", db='CNK12')\n",
    "cur = conn.cursor()\n",
    "#数学学科小学学段913851条，初中1202389，高中1507119\n",
    "items=[]#list，保存解析后的条目\n",
    "for pagesize in range(0,18):#提取小学学段90万条数学习题，mysql性能低，采用limit分布查询\n",
    "    sel_sql =\"select distinct(a.question_uid),a.question_diff,a.question_knowledge,\\\n",
    "                 a.question_text,a.question_options,a.question_answer,a.question_explain,a.question_parse \\\n",
    "                 from cnk_question a \\\n",
    "                 left join cnk_knowledge_question b on (a.question_uid=b.question_uid) \\\n",
    "                 left join cnk_knowledge c on (b.knowledge_uid=c.knowledge_uid and c.subject_id=2 and c.pharse_id=1)\\\n",
    "                 limit %d,50000\"%(pagesize*50000)\n",
    "    cur.execute(sel_sql)\n",
    "    results = cur.fetchall()\n",
    "    for row in results:\n",
    "        mhp = mathHTMLParser() \n",
    "        item={}#dict\n",
    "        item['quid']=row[0]\n",
    "        item['qdiff']=row[1]\n",
    "        item['qklg']=row[2]\n",
    "        mhp.feed(row[3])#题干\n",
    "        mhp.feed(row[4])#选项\n",
    "        mhp.feed(row[5])#答案\n",
    "        mhp.feed(row[6])#解释\n",
    "        mhp.feed(row[7])#分析\n",
    "        item['qtext']=mhp.texts  #非结构化-文本\n",
    "        item['qimage']=mhp.images #非结构化-图片\n",
    "        #item['qhtml'] =mhp.htmls #半结构化-html格式\n",
    "        #item['qlatex']=mhp.latexs #半结构化-latex格式\n",
    "        mhp.close() \n",
    "        items.append(item)#插入list\n",
    "    print (\"page %d parsing completed.\"% pagesize)\n",
    "cur.close()\n",
    "conn.close()\n",
    "print (len(items))#总长度\n",
    "with open(\"/data/fjs/data/math/math.json\",\"w\") as dump_f:\n",
    "    json.dump(items,dump_f)#保存到json文件\n",
    "    print(\"Json file saving completed.\")"
   ]
  },
  {
   "cell_type": "code",
   "execution_count": 59,
   "metadata": {},
   "outputs": [
    {
     "name": "stdout",
     "output_type": "stream",
     "text": [
      "900000\n",
      "900000\n"
     ]
    }
   ],
   "source": [
    "from itertools import compress\n",
    "import pandas as pd\n",
    "from operator import itemgetter\n",
    "from itertools import groupby\n",
    "#功能：list里面的每一个元素都是dict，根据dict某一个key进行去重\n",
    "#函数1\n",
    "def distinct(items,key):\n",
    "    key = itemgetter(key)\n",
    "    items = sorted(items, key=key)\n",
    "    return [next(v) for _, v in groupby(items, key=key)]\n",
    "#函数2\n",
    "#def distinct(items,key):  \n",
    "#    mask = (~pd.Series(map(itemgetter(key), items)).duplicated()).tolist()\n",
    "#    return list(compress(items, mask))\n",
    "with open(\"/data/fjs/data/math/math.json\",'r') as load_f:\n",
    "    items = json.load(load_f)\n",
    "    print (len(items))#去重前条目\n",
    "    items =distinct(items,'quid')#去重key=quid\n",
    "    print (len(items))#去重后条目"
   ]
  },
  {
   "cell_type": "code",
   "execution_count": null,
   "metadata": {},
   "outputs": [],
   "source": []
  }
 ],
 "metadata": {
  "kernelspec": {
   "display_name": "Python 3",
   "language": "python",
   "name": "python3"
  },
  "language_info": {
   "codemirror_mode": {
    "name": "ipython",
    "version": 3
   },
   "file_extension": ".py",
   "mimetype": "text/x-python",
   "name": "python",
   "nbconvert_exporter": "python",
   "pygments_lexer": "ipython3",
   "version": "3.5.2"
  }
 },
 "nbformat": 4,
 "nbformat_minor": 2
}
